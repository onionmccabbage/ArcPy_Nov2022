{
 "cells": [
  {
   "cell_type": "markdown",
   "metadata": {},
   "source": [
    "## Using Jupyter Notebook"
   ]
  },
  {
   "cell_type": "code",
   "execution_count": 27,
   "metadata": {
    "scrolled": true
   },
   "outputs": [
    {
     "ename": "KeyboardInterrupt",
     "evalue": "",
     "output_type": "error",
     "traceback": [
      "\u001b[0;31m---------------------------------------------------------------------------\u001b[0m\n\u001b[0;31mKeyboardInterrupt\u001b[0m                         Traceback (most recent call last)",
      "\u001b[0;31mKeyboardInterrupt\u001b[0m: \n\u001b[0;31m---------------------------------------------------------------------------\u001b[0m"
     ]
    }
   ],
   "source": [
    "# within ArcGIS Pro there is no need to import arcpy\n",
    "import arcpy # in case we export this to run outside ArcGIS\n",
    "\n",
    "# some analysis NB press TAB for code hinting and autocompletion\n",
    "#                  we can refer to assets in this project\n",
    "# assets within this project do not needan extenstion\n",
    "# assets NOT (yet) in this project we need an extension\n",
    "# arcpy.Clip_analysis('parks', 'zip', 'c:/PythonPro/Ex05/parks_clip.shp')arcpy.Clip_analysis('parks', 'zip', 'c:/PythonPro/Ex05/parks_clip.shp')\n",
    "# exactl;y the same as\n",
    "arcpy.analysis.Clip('parks', 'zip', 'c:/PythonPro/Ex05/parks_clip.shp')\n",
    "\n"
   ]
  },
  {
   "cell_type": "code",
   "execution_count": 28,
   "metadata": {},
   "outputs": [],
   "source": [
    "# we can specify the workspace\n",
    "arcpy.env.workspace = 'C:/PythonPro/Ex05' # or r'C\\PythonPro\\Ex05'\n",
    "# NB shift-enter runs this cell and adds a cell below"
   ]
  },
  {
   "cell_type": "code",
   "execution_count": 29,
   "metadata": {},
   "outputs": [
    {
     "data": {
      "text/html": [
       "<div class='gpresult'><h2>Messages</h2><div id='messages' data-messages='[\"Start Time: 21 November 2022 15:33:23\",\"Succeeded at 21 November 2022 15:33:25 (Elapsed Time: 2.18 seconds)\"]' data-show='true'><div id = 'default' /></div></div>"
      ],
      "text/plain": [
       "<Result 'C:/PythonPro/Ex05\\\\facilities_buffer.shp'>"
      ]
     },
     "execution_count": 29,
     "metadata": {},
     "output_type": "execute_result"
    }
   ],
   "source": [
    "# we can run a buffer analysis                                           dissolve all overlaps\n",
    "arcpy.Buffer_analysis('facilities.shp', 'facilities_buffer.shp', '500 meters', '', '', 'ALL')"
   ]
  },
  {
   "cell_type": "code",
   "execution_count": 30,
   "metadata": {},
   "outputs": [
    {
     "data": {
      "text/html": [
       "<div class='gpresult'><h2>Messages</h2><div id='messages' data-messages='[\"Start Time: 21 November 2022 15:33:26\",\"Analyzing input features...\",\"Dissolving clip features...\",\"Clipping input features...\",\"Succeeded at 21 November 2022 15:33:26 (Elapsed Time: 0.18 seconds)\"]' data-show='true'><div id = 'default' /></div></div>"
      ],
      "text/plain": [
       "<Result 'C:/PythonPro/Ex05\\\\bike_clip.shp'>"
      ]
     },
     "execution_count": 30,
     "metadata": {},
     "output_type": "execute_result"
    }
   ],
   "source": [
    "# It often makes sense to declare variables to hold our values\n",
    "in_features = 'bike_routes.shp'\n",
    "clip_features = 'zip.shp'\n",
    "out_features = 'bike_clip.shp'\n",
    "xy_tolerance = '' # rarely used\n",
    "# we can use our variables in a tool\n",
    "arcpy.Clip_analysis(in_features, clip_features, out_features, xy_tolerance)"
   ]
  },
  {
   "cell_type": "code",
   "execution_count": 31,
   "metadata": {},
   "outputs": [
    {
     "data": {
      "text/plain": [
       "True"
      ]
     },
     "execution_count": 31,
     "metadata": {},
     "output_type": "execute_result"
    }
   ],
   "source": [
    "# ALL geoprocessing tools in ArcGIS Pro are functions in ArcPy\n",
    "# there are additional functions in ArcPy\n",
    "arcpy.Exists('hospitals.shp') # True or False, if it is in current workspace"
   ]
  },
  {
   "cell_type": "code",
   "execution_count": 32,
   "metadata": {},
   "outputs": [
    {
     "data": {
      "text/plain": [
       "'exists(<dataset>, {datatype}) -> boolean\\nCheck if a data element exists.'"
      ]
     },
     "execution_count": 32,
     "metadata": {},
     "output_type": "execute_result"
    }
   ],
   "source": [
    "# we can find how to use tools...\n",
    "arcpy.Usage('Clip_Analysis')\n",
    "arcpy.Usage('Exists')"
   ]
  },
  {
   "cell_type": "code",
   "execution_count": null,
   "metadata": {},
   "outputs": [],
   "source": []
  },
  {
   "cell_type": "code",
   "execution_count": null,
   "metadata": {},
   "outputs": [],
   "source": []
  }
 ],
 "metadata": {
  "kernelspec": {
   "display_name": "ArcGISPro",
   "language": "Python",
   "name": "python3"
  },
  "language_info": {
   "file_extension": ".py",
   "name": "python",
   "version": "3"
  }
 },
 "nbformat": 4,
 "nbformat_minor": 2
}
