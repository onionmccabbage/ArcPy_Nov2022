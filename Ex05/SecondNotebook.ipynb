{
 "cells": [
  {
   "cell_type": "code",
   "execution_count": 1,
   "metadata": {},
   "outputs": [
    {
     "data": {
      "text/html": [
       "<div class='gpresult'><h2>Messages</h2><div id='messages' data-messages='[\"Start Time: 21 November 2022 15:45:26\",\"Succeeded at 21 November 2022 15:45:26 (Elapsed Time: 0.05 seconds)\"]' data-show='true'><div id = 'default' /></div></div>"
      ],
      "text/plain": [
       "<Result 'hospitals'>"
      ]
     },
     "execution_count": 1,
     "metadata": {},
     "output_type": "execute_result"
    }
   ],
   "source": [
    "## We can read in a Spacial Reference from a 'prj' file\n",
    "prjfile = \"c:/PythonPro/Ex05/facilities.prj\"\n",
    "spacial_ref = arcpy.SpatialReference(prjfile)\n",
    "arcpy.DefineProjection_management('hospitals', spacial_ref)"
   ]
  },
  {
   "cell_type": "code",
   "execution_count": 4,
   "metadata": {},
   "outputs": [
    {
     "name": "stdout",
     "output_type": "stream",
     "text": [
      "NAD_1983_StatePlane_Texas_Central_FIPS_4203_Feet\n",
      "Foot_US\n",
      "0.0003280833333333333\n"
     ]
    }
   ],
   "source": [
    "# we can always check the spacial reference\n",
    "print(spacial_ref.name)\n",
    "print(spacial_ref.linearUnitName)\n",
    "print(spacial_ref.XYResolution)"
   ]
  },
  {
   "cell_type": "code",
   "execution_count": 5,
   "metadata": {},
   "outputs": [],
   "source": [
    "# we can set the default spacial ref system\n",
    "arcpy.env.outputCoordinateSystem = spacial_ref\n"
   ]
  },
  {
   "cell_type": "code",
   "execution_count": 6,
   "metadata": {},
   "outputs": [],
   "source": [
    "# here is an example of a good usility to set up a new project\n",
    "import arcpy # not needed when run within ArcGIS\n",
    "arcpy.env.workspace = \"C:/PythonPro/Ex05\"\n",
    "prjfile = \"C:\\\\PythonPro\\\\Ex05\\\\facilities.prj\"\n",
    "spatial_ref = arcpy.SpatialReference(prjfile)\n",
    "arcpy.env.overwriteOutput = True\n",
    "arcpy.env.outputCoordinateSystem = spatial_ref"
   ]
  },
  {
   "cell_type": "code",
   "execution_count": 7,
   "metadata": {},
   "outputs": [
    {
     "name": "stdout",
     "output_type": "stream",
     "text": [
      "C:\\Users\\rb17\\AppData\\Local\\Temp\\ArcGISProTemp26500\\5485fcc7-41fc-4882-b10d-c35d15f7ec88\\Default.gdb\n"
     ]
    }
   ],
   "source": [
    "# we can clear the workspace\n",
    "arcpy.ClearEnvironment('workspace')\n",
    "print(arcpy.env.workspace)"
   ]
  },
  {
   "cell_type": "code",
   "execution_count": 10,
   "metadata": {},
   "outputs": [
    {
     "name": "stdout",
     "output_type": "stream",
     "text": [
      "None\n"
     ]
    }
   ],
   "source": [
    "# we can reset to defaults\n",
    "arcpy.ResetEnvironments()\n",
    "print(arcpy.env.outputCoordinateSystem) # CAREFUL - we should make sure there IS one!!"
   ]
  },
  {
   "cell_type": "code",
   "execution_count": null,
   "metadata": {},
   "outputs": [],
   "source": []
  }
 ],
 "metadata": {
  "kernelspec": {
   "display_name": "ArcGISPro",
   "language": "Python",
   "name": "python3"
  },
  "language_info": {
   "file_extension": ".py",
   "name": "python",
   "version": "3"
  }
 },
 "nbformat": 4,
 "nbformat_minor": 2
}
