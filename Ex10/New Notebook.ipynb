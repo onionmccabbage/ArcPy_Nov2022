{
 "cells": [
  {
   "cell_type": "markdown",
   "metadata": {},
   "source": [
    "## Working With Raster Formats"
   ]
  },
  {
   "cell_type": "code",
   "execution_count": 5,
   "metadata": {},
   "outputs": [],
   "source": [
    "import arcpy # not needed - we are in ArcGIS!!\n",
    "# also no need to set a workspace\n",
    "arcpy.env.workspace = r'c:\\PythonPro\\Ex10'\n",
    "\n",
    "# we can list all rasters in this project\n",
    "r_list = arcpy.ListRasters()\n",
    "for r in r_list:\n",
    "    print(r)"
   ]
  },
  {
   "cell_type": "code",
   "execution_count": 9,
   "metadata": {},
   "outputs": [
    {
     "name": "stdout",
     "output_type": "stream",
     "text": [
      "Raster base name is landcover data type is RasterLayer ext tif\n"
     ]
    }
   ],
   "source": [
    "# using the landcover.tif\n",
    "raster = 'landcover.tif'\n",
    "desc   = arcpy.da.Describe(raster)\n",
    "print('Raster base name is {} data type is {} ext {}'.format(desc['baseName'], desc['dataType'], desc['extension']))"
   ]
  },
  {
   "cell_type": "code",
   "execution_count": 20,
   "metadata": {},
   "outputs": [
    {
     "name": "stdout",
     "output_type": "stream",
     "text": [
      "Base Name tm spatial ref GCS_North_American_1983\n",
      "Compression RLE\n",
      "Band count 3\n"
     ]
    }
   ],
   "source": [
    "# More specific properties depend on whether the raster data \n",
    "# element is a raster dataset, raster band, or raster catalog. \n",
    "# The tm.img raster is a raster dataset, which makes it possible \n",
    "# to access additional properties\n",
    "raster = 'landcover.tif'\n",
    "raster = 'tm.img' # img is the 'imagine' raster format\n",
    "\n",
    "desc = arcpy.da.Describe(raster)\n",
    "print('Base Name {} spatial ref {}'.format(desc['baseName'], desc['spatialReference'].name))\n",
    "print( 'Compression {}'.format(desc['compressionType']) )\n",
    "print( 'Band count {}'.format(desc['bandCount']) )"
   ]
  },
  {
   "cell_type": "code",
   "execution_count": null,
   "metadata": {},
   "outputs": [],
   "source": [
    "# naming conventions\n",
    "# if someting is just a variable we tend to use 'snake_case'\n",
    "my_var_name = 'snake_case'\n",
    "# if someting is a propert we tend to use 'camelCase'\n",
    "my_var_name.somePropertyThatMatters = 'camelCase'\n",
    "# if something is a class we tend to use PascalCase\n",
    "ThisClass = 'cap each word'"
   ]
  },
  {
   "cell_type": "markdown",
   "metadata": {},
   "source": [
    "## Other Raster Description Properties"
   ]
  },
  {
   "cell_type": "code",
   "execution_count": 22,
   "metadata": {},
   "outputs": [
    {
     "name": "stdout",
     "output_type": "stream",
     "text": [
      "Resolution of Layer_1 is 0.000277778 0.000278 Degree\n",
      "Resolution of Layer_2 is 0.000277778 0.000278 Degree\n",
      "Resolution of Layer_3 is 0.000277778 0.000278 Degree\n"
     ]
    }
   ],
   "source": [
    "# iterate over bands\n",
    "for rband in desc['children']:\n",
    "    bandName = rband['baseName']\n",
    "    x = rband['meanCellHeight']\n",
    "    y = rband['meanCellWidth']\n",
    "    spatialRef = desc['spatialReference']\n",
    "    if spatialRef.type == 'Geographic':\n",
    "        units = spatialRef.angularUnitName\n",
    "        # alt-azimuth\n",
    "        print('Resolution of {} is {:.6} {:.6f} {}'.format(bandName, x, y, units))\n",
    "    else: \n",
    "        units = spatialRef.linearUnitName\n",
    "        print('Resolution is {} by {} {}'.format(x, y, units))\n",
    "        \n",
    "        \n",
    "        \n",
    "        "
   ]
  },
  {
   "cell_type": "code",
   "execution_count": null,
   "metadata": {},
   "outputs": [],
   "source": []
  },
  {
   "cell_type": "code",
   "execution_count": null,
   "metadata": {},
   "outputs": [],
   "source": []
  }
 ],
 "metadata": {
  "kernelspec": {
   "display_name": "ArcGISPro",
   "language": "Python",
   "name": "python3"
  },
  "language_info": {
   "file_extension": ".py",
   "name": "python",
   "version": "3"
  }
 },
 "nbformat": 4,
 "nbformat_minor": 2
}
