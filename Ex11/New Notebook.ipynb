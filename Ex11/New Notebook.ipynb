{
 "cells": [
  {
   "cell_type": "markdown",
   "metadata": {},
   "source": [
    "# Map Scripting"
   ]
  },
  {
   "cell_type": "code",
   "execution_count": 26,
   "metadata": {},
   "outputs": [],
   "source": [
    "# we can set the project \n",
    "# often GLOBAL CONSTANTS are named with ALL_CAPS\n",
    "# NB open this project from austin.aprx (in Ex11 folder)\n",
    "aprx = arcpy.mp.ArcGISProject('CURRENT') # means use the existing setup (currently open project)"
   ]
  },
  {
   "cell_type": "code",
   "execution_count": 27,
   "metadata": {},
   "outputs": [
    {
     "name": "stdout",
     "output_type": "stream",
     "text": [
      "C:\\PythonPro\\Ex11\\Austin_Data.gdb\n"
     ]
    }
   ],
   "source": [
    "# what is the current gdb?\n",
    "print(aprx.defaultGeodatabase)"
   ]
  },
  {
   "cell_type": "code",
   "execution_count": 28,
   "metadata": {},
   "outputs": [],
   "source": [
    "# we can make a copy of the project\n",
    "aprx.saveACopy('AustinCopy.aprx')"
   ]
  },
  {
   "cell_type": "markdown",
   "metadata": {},
   "source": [
    "## Listing Maps"
   ]
  },
  {
   "cell_type": "code",
   "execution_count": 29,
   "metadata": {},
   "outputs": [
    {
     "name": "stdout",
     "output_type": "stream",
     "text": [
      "Downtown\n",
      "Foot_US\n",
      "Region\n",
      "Foot_US\n"
     ]
    }
   ],
   "source": [
    "maps = aprx.listMaps()\n",
    "for m in maps:\n",
    "    print(m.name)\n",
    "    print(m.mapUnits)"
   ]
  },
  {
   "cell_type": "markdown",
   "metadata": {},
   "source": [
    "## Map Layers"
   ]
  },
  {
   "cell_type": "code",
   "execution_count": 30,
   "metadata": {},
   "outputs": [
    {
     "name": "stdout",
     "output_type": "stream",
     "text": [
      "Map Downtown\n",
      "\ttrees is a feature layer\n",
      "\tparks is a feature layer\n",
      "\tbase is a feature layer\n",
      "\tTopographic is a baseMap layer\n",
      "Map Region\n",
      "\tfacilities is a feature layer\n",
      "\thospitals is a feature layer\n",
      "\tparks is a feature layer\n",
      "\tTopographic is a baseMap layer\n"
     ]
    }
   ],
   "source": [
    "for m in maps:\n",
    "    print('Map {}'.format(m.name))\n",
    "    lyrs = m.listLayers()\n",
    "    for l in lyrs:\n",
    "        # is it a basemap?\n",
    "        if l.isBasemapLayer:\n",
    "            print('\\t{} is a baseMap layer'.format(l.name) )\n",
    "        else:\n",
    "            print('\\t{} is a feature layer'.format(l.name) )"
   ]
  },
  {
   "cell_type": "markdown",
   "metadata": {},
   "source": [
    "## Maniplulate Map Layers"
   ]
  },
  {
   "cell_type": "code",
   "execution_count": 37,
   "metadata": {},
   "outputs": [
    {
     "data": {
      "text/plain": [
       "<arcpy._mp.Map object at 0x000001EC180F4D60>"
      ]
     },
     "execution_count": 37,
     "metadata": {},
     "output_type": "execute_result"
    }
   ],
   "source": [
    "aprx = arcpy.mp.ArcGISProject('Austin.aprx')\n",
    "\n",
    "m = aprx.listMaps('Downtown')[0]\n",
    "m\n",
    "# m.addBaseMap('Light Gray Canvas')"
   ]
  },
  {
   "cell_type": "code",
   "execution_count": null,
   "metadata": {},
   "outputs": [],
   "source": []
  }
 ],
 "metadata": {
  "kernelspec": {
   "display_name": "ArcGISPro",
   "language": "Python",
   "name": "python3"
  },
  "language_info": {
   "file_extension": ".py",
   "name": "python",
   "version": "3"
  }
 },
 "nbformat": 4,
 "nbformat_minor": 2
}
