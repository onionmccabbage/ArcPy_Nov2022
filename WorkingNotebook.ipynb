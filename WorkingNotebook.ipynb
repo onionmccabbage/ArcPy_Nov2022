{
 "cells": [
  {
   "cell_type": "code",
   "execution_count": 79,
   "metadata": {},
   "outputs": [],
   "source": [
    "# see https://learn.arcgis.com/en/projects/update-real-time-data-with-python/\n",
    "# Update real-time data with Python API - Map the most recent data\n",
    "\n",
    "import arcgis\n",
    "\n",
    "import os\n",
    "import tempfile\n",
    "\n",
    "from urllib import request"
   ]
  },
  {
   "cell_type": "code",
   "execution_count": 80,
   "metadata": {},
   "outputs": [],
   "source": [
    "url = 'https://coralreefwatch.noaa.gov/product/vs/vs_polygons.json'\n",
    "temp_dir = tempfile.mkdtemp()\n",
    "filename = os.path.join(temp_dir, 'latest_data.json')\n",
    "response = request.urlretrieve(url, filename)"
   ]
  },
  {
   "cell_type": "code",
   "execution_count": 81,
   "metadata": {},
   "outputs": [
    {
     "name": "stdout",
     "output_type": "stream",
     "text": [
      "File name: C:\\Users\\rb17\\AppData\\Local\\Temp\\ArcGISProTemp5504\\tmpsvzw2f7v\\latest_data.json\n"
     ]
    }
   ],
   "source": [
    "print(f'File name: {filename}')"
   ]
  },
  {
   "cell_type": "code",
   "execution_count": 82,
   "metadata": {},
   "outputs": [],
   "source": [
    "import json\n",
    "json_file = open(filename)\n",
    "data_raw = json.load(json_file) # this json file now exists in a temp dir"
   ]
  },
  {
   "cell_type": "code",
   "execution_count": 83,
   "metadata": {},
   "outputs": [],
   "source": [
    "with open(filename) as json_file:\n",
    "    data_raw = json.load(json_file)\n",
    "    # Do something with the 'data_raw' variable\n",
    "# Do something else outside the 'with' section. The json_file variable is now closed."
   ]
  },
  {
   "cell_type": "markdown",
   "metadata": {},
   "source": [
    "## Create layers from the file"
   ]
  },
  {
   "cell_type": "code",
   "execution_count": 84,
   "metadata": {},
   "outputs": [
    {
     "data": {
      "text/html": [
       "<div class='gpresult'><h2>Messages</h2><div id='messages' data-messages='[\"Start Time: 23 November 2022 15:28:21\",\"Succeeded at 23 November 2022 15:28:21 (Elapsed Time: 0.07 seconds)\"]' data-show='true'><div id = 'default' /></div></div>"
      ],
      "text/plain": [
       "<Result 'C:\\\\Users\\\\rb17\\\\AppData\\\\Local\\\\Temp\\\\ArcGISProTemp5504\\\\tmpsvzw2f7v\\\\Live.gdb'>"
      ]
     },
     "execution_count": 84,
     "metadata": {},
     "output_type": "execute_result"
    }
   ],
   "source": [
    "# create a folder named Temp\n",
    "# arcpy.management.CreateFileGDB(r'D:\\ArcGIS\\Temp', 'Live.gdb')\n",
    "# arcpy.env.workspace = os.path.join(r'D:\\ArcGIS\\Temp', 'Live.gdb')\n",
    "arcpy.management.CreateFileGDB( temp_dir, 'Live.gdb' )"
   ]
  },
  {
   "cell_type": "code",
   "execution_count": 85,
   "metadata": {},
   "outputs": [],
   "source": [
    "# Create dictionarie with two elements, as required by the GeoJSON file format. \n",
    "# The type element will refer to the geometry type in the data_raw variable (your JSON). \n",
    "# The features element will list the features. For now, the list will be empty, as indicated by a pair of brackets.\n",
    "\n",
    "data_stations = dict(type=data_raw['type'], features=[])\n",
    "data_areas = dict(type=data_raw['type'], features=[])"
   ]
  },
  {
   "cell_type": "code",
   "execution_count": 86,
   "metadata": {},
   "outputs": [],
   "source": [
    "# loop through all features in the data_raw variable. \n",
    "# determine each feature's geometry type. \n",
    "# append features of specific geometry types to the list of features of the appropriate dictionary\n",
    "for feat in data_raw['features']:\n",
    "    if feat['geometry']['type'] == 'Point':\n",
    "        data_stations['features'].append(feat)\n",
    "    else: # elif feat['geometry']['type'] in ['MultiPolygon', 'Polygon']:        \n",
    "        data_areas['features'].append(feat)"
   ]
  },
  {
   "cell_type": "code",
   "execution_count": 87,
   "metadata": {},
   "outputs": [
    {
     "data": {
      "text/plain": [
       "214"
      ]
     },
     "execution_count": 87,
     "metadata": {},
     "output_type": "execute_result"
    }
   ],
   "source": [
    "# check how many features were loaded into the list.\n",
    "len(data_stations['features'])"
   ]
  },
  {
   "cell_type": "code",
   "execution_count": 88,
   "metadata": {},
   "outputs": [
    {
     "data": {
      "text/plain": [
       "'Beagle Gulf'"
      ]
     },
     "execution_count": 88,
     "metadata": {},
     "output_type": "execute_result"
    }
   ],
   "source": [
    "data_areas['features'][9]['properties']['name'] # tenth feature"
   ]
  },
  {
   "cell_type": "code",
   "execution_count": 89,
   "metadata": {},
   "outputs": [
    {
     "data": {
      "text/plain": [
       "[[[[129.15, -14.3], [129.15, -14.325], [129.15, -14.35], [129.15, -14.375], [129.15, -14.4], [129.15, -14.425], [129.15, -14.45], [129.175, -14.45], [129.2, -14.45], [129.2, -14.475], [129.2, -14.5], [129.225, -14.5], [129.25, -14.5], [129.25, -14.525], [129.25, -14.55], [129.275, -14.55], [129.3, -14.55], [129.3, -14.575], [129.3, -14.6], [129.325, -14.6], [129.35, -14.6], [129.35, -14.625], [129.35, -14.65], [129.375, -14.65], [129.4, -14.65], [129.4, -14.625], [129.4, -14.6], [129.425, -14.6], [129.45, -14.6], [129.45, -14.575], [129.45, -14.55], [129.475, -14.55], [129.5, -14.55], [129.5, -14.525], [129.5, -14.5], [129.525, -14.5], [129.55, -14.5], [129.55, -14.475], [129.55, -14.45], [129.575, -14.45], [129.6, -14.45], [129.6, -14.425], [129.6, -14.4], [129.6, -14.375], [129.6, -14.35], [129.6, -14.325], [129.6, -14.3], [129.575, -14.3], [129.55, -14.3], [129.55, -14.275], [129.55, -14.25], [129.575, -14.25], [129.6, -14.25], [129.6, -14.225], [129.6, -14.2], [129.625, -14.2], [129.65, -14.2], [129.65, -14.175], [129.65, -14.15], [129.675, -14.15], [129.7, -14.15], [129.7, -14.125], [129.7, -14.1], [129.725, -14.1], [129.75, -14.1], [129.75, -14.075], [129.75, -14.05], [129.725, -14.05], [129.7, -14.05], [129.7, -14.025], [129.7, -14.0], [129.675, -14.0], [129.65, -14.0], [129.65, -13.975], [129.65, -13.95], [129.625, -13.95], [129.6, -13.95], [129.6, -13.925], [129.6, -13.9], [129.575, -13.9], [129.55, -13.9], [129.55, -13.875], [129.55, -13.85], [129.525, -13.85], [129.5, -13.85], [129.5, -13.875], [129.5, -13.9], [129.475, -13.9], [129.45, -13.9], [129.45, -13.925], [129.45, -13.95], [129.425, -13.95], [129.4, -13.95], [129.4, -13.975], [129.4, -14.0], [129.375, -14.0], [129.35, -14.0], [129.35, -14.025], [129.35, -14.05], [129.325, -14.05], [129.3, -14.05], [129.3, -14.075], [129.3, -14.1], [129.325, -14.1], [129.35, -14.1], [129.35, -14.125], [129.35, -14.15], [129.325, -14.15], [129.3, -14.15], [129.3, -14.175], [129.3, -14.2], [129.275, -14.2], [129.25, -14.2], [129.25, -14.225], [129.25, -14.25], [129.225, -14.25], [129.2, -14.25], [129.2, -14.275], [129.2, -14.3], [129.175, -14.3], [129.15, -14.3]]], [[[129.65, -13.4], [129.65, -13.425], [129.65, -13.45], [129.65, -13.475], [129.65, -13.5], [129.675, -13.5], [129.7, -13.5], [129.7, -13.525], [129.7, -13.55], [129.725, -13.55], [129.75, -13.55], [129.75, -13.575], [129.75, -13.6], [129.775, -13.6], [129.8, -13.6], [129.8, -13.625], [129.8, -13.65], [129.825, -13.65], [129.85, -13.65], [129.85, -13.675], [129.85, -13.7], [129.875, -13.7], [129.9, -13.7], [129.9, -13.675], [129.9, -13.65], [129.925, -13.65], [129.95, -13.65], [129.95, -13.625], [129.95, -13.6], [129.975, -13.6], [130.0, -13.6], [130.0, -13.575], [130.0, -13.55], [130.025, -13.55], [130.05, -13.55], [130.05, -13.525], [130.05, -13.5], [130.075, -13.5], [130.1, -13.5], [130.1, -13.475], [130.1, -13.45], [130.1, -13.425], [130.1, -13.4], [130.075, -13.4], [130.05, -13.4], [130.05, -13.375], [130.05, -13.35], [130.05, -13.325], [130.05, -13.3], [130.075, -13.3], [130.1, -13.3], [130.1, -13.275], [130.1, -13.25], [130.125, -13.25], [130.15, -13.25], [130.15, -13.225], [130.15, -13.2], [130.175, -13.2], [130.2, -13.2], [130.2, -13.175], [130.2, -13.15], [130.225, -13.15], [130.25, -13.15], [130.25, -13.125], [130.25, -13.1], [130.25, -13.075], [130.25, -13.05], [130.275, -13.05], [130.3, -13.05], [130.3, -13.025], [130.3, -13.0], [130.325, -13.0], [130.35, -13.0], [130.35, -12.975], [130.35, -12.95], [130.375, -12.95], [130.4, -12.95], [130.4, -12.925], [130.4, -12.9], [130.425, -12.9], [130.45, -12.9], [130.45, -12.875], [130.45, -12.85], [130.475, -12.85], [130.5, -12.85], [130.5, -12.825], [130.5, -12.8], [130.525, -12.8], [130.55, -12.8], [130.55, -12.825], [130.55, -12.85], [130.575, -12.85], [130.6, -12.85], [130.6, -12.825], [130.6, -12.8], [130.625, -12.8], [130.65, -12.8], [130.65, -12.775], [130.65, -12.75], [130.675, -12.75], [130.7, -12.75], [130.7, -12.725], [130.7, -12.7], [130.725, -12.7], [130.75, -12.7], [130.775, -12.7], [130.8, -12.7], [130.8, -12.725], [130.8, -12.75], [130.825, -12.75], [130.85, -12.75], [130.85, -12.725], [130.85, -12.7], [130.875, -12.7], [130.9, -12.7], [130.9, -12.675], [130.9, -12.65], [130.925, -12.65], [130.95, -12.65], [130.95, -12.625], [130.95, -12.6], [130.975, -12.6], [131.0, -12.6], [131.0, -12.575], [131.0, -12.55], [131.025, -12.55], [131.05, -12.55], [131.05, -12.525], [131.05, -12.5], [131.075, -12.5], [131.1, -12.5], [131.1, -12.475], [131.1, -12.45], [131.075, -12.45], [131.05, -12.45], [131.05, -12.425], [131.05, -12.4], [131.075, -12.4], [131.1, -12.4], [131.125, -12.4], [131.15, -12.4], [131.15, -12.375], [131.15, -12.35], [131.175, -12.35], [131.2, -12.35], [131.225, -12.35], [131.25, -12.35], [131.275, -12.35], [131.3, -12.35], [131.3, -12.325], [131.3, -12.3], [131.325, -12.3], [131.35, -12.3], [131.35, -12.325], [131.35, -12.35], [131.375, -12.35], [131.4, -12.35], [131.4, -12.325], [131.4, -12.3], [131.425, -12.3], [131.45, -12.3], [131.45, -12.275], [131.45, -12.25], [131.475, -12.25], [131.5, -12.25], [131.5, -12.225], [131.5, -12.2], [131.525, -12.2], [131.55, -12.2], [131.55, -12.175], [131.55, -12.15], [131.575, -12.15], [131.6, -12.15], [131.6, -12.125], [131.6, -12.1], [131.6, -12.075], [131.6, -12.05], [131.6, -12.025], [131.6, -12.0], [131.575, -12.0], [131.55, -12.0], [131.55, -11.975], [131.55, -11.95], [131.525, -11.95], [131.5, -11.95], [131.5, -11.925], [131.5, -11.9], [131.475, -11.9], [131.45, -11.9], [131.45, -11.875], [131.45, -11.85], [131.475, -11.85], [131.5, -11.85], [131.5, -11.825], [131.5, -11.8], [131.525, -11.8], [131.55, -11.8], [131.55, -11.775], [131.55, -11.75], [131.575, -11.75], [131.6, -11.75], [131.6, -11.725], [131.6, -11.7], [131.625, -11.7], [131.65, -11.7], [131.65, -11.675], [131.65, -11.65], [131.675, -11.65], [131.7, -11.65], [131.7, -11.625], [131.7, -11.6], [131.7, -11.575], [131.7, -11.55], [131.7, -11.525], [131.7, -11.5], [131.675, -11.5], [131.65, -11.5], [131.65, -11.475], [131.65, -11.45], [131.65, -11.425], [131.65, -11.4], [131.625, -11.4], [131.6, -11.4], [131.6, -11.375], [131.6, -11.35], [131.6, -11.325], [131.6, -11.3], [131.6, -11.275], [131.6, -11.25], [131.6, -11.225], [131.6, -11.2], [131.575, -11.2], [131.55, -11.2], [131.55, -11.175], [131.55, -11.15], [131.525, -11.15], [131.5, -11.15], [131.5, -11.125], [131.5, -11.1], [131.475, -11.1], [131.45, -11.1], [131.45, -11.075], [131.45, -11.05], [131.425, -11.05], [131.4, -11.05], [131.4, -11.025], [131.4, -11.0], [131.375, -11.0], [131.35, -11.0], [131.35, -10.975], [131.35, -10.95], [131.325, -10.95], [131.3, -10.95], [131.275, -10.95], [131.25, -10.95], [131.225, -10.95], [131.2, -10.95], [131.2, -10.975], [131.2, -11.0], [131.175, -11.0], [131.15, -11.0], [131.125, -11.0], [131.1, -11.0], [131.1, -11.025], [131.1, -11.05], [131.075, -11.05], [131.05, -11.05], [131.05, -11.075], [131.05, -11.1], [131.025, -11.1], [131.0, -11.1], [131.0, -11.125], [131.0, -11.15], [130.975, -11.15], [130.95, -11.15], [130.925, -11.15], [130.9, -11.15], [130.9, -11.125], [130.9, -11.1], [130.875, -11.1], [130.85, -11.1], [130.85, -11.125], [130.85, -11.15], [130.825, -11.15], [130.8, -11.15], [130.8, -11.175], [130.8, -11.2], [130.775, -11.2], [130.75, -11.2], [130.75, -11.175], [130.75, -11.15], [130.725, -11.15], [130.7, -11.15], [130.7, -11.125], [130.7, -11.1], [130.675, -11.1], [130.65, -11.1], [130.65, -11.075], [130.65, -11.05], [130.625, -11.05], [130.6, -11.05], [130.575, -11.05], [130.55, -11.05], [130.55, -11.025], [130.55, -11.0], [130.525, -11.0], [130.5, -11.0], [130.5, -10.975], [130.5, -10.95], [130.475, -10.95], [130.45, -10.95], [130.45, -10.925], [130.45, -10.9], [130.425, -10.9], [130.4, -10.9], [130.375, -10.9], [130.35, -10.9], [130.35, -10.925], [130.35, -10.95], [130.325, -10.95], [130.3, -10.95], [130.3, -10.975], [130.3, -11.0], [130.275, -11.0], [130.25, -11.0], [130.25, -11.025], [130.25, -11.05], [130.225, -11.05], [130.2, -11.05], [130.2, -11.075], [130.2, -11.1], [130.175, -11.1], [130.15, -11.1], [130.15, -11.125], [130.15, -11.15], [130.15, -11.175], [130.15, -11.2], [130.125, -11.2], [130.1, -11.2], [130.1, -11.225], [130.1, -11.25], [130.1, -11.275], [130.1, -11.3], [130.125, -11.3], [130.15, -11.3], [130.15, -11.325], [130.15, -11.35], [130.175, -11.35], [130.2, -11.35], [130.2, -11.375], [130.2, -11.4], [130.225, -11.4], [130.25, -11.4], [130.25, -11.425], [130.25, -11.45], [130.275, -11.45], [130.3, -11.45], [130.3, -11.475], [130.3, -11.5], [130.325, -11.5], [130.35, -11.5], [130.375, -11.5], [130.4, -11.5], [130.4, -11.475], [130.4, -11.45], [130.425, -11.45], [130.45, -11.45], [130.475, -11.45], [130.5, -11.45], [130.5, -11.475], [130.5, -11.5], [130.525, -11.5], [130.55, -11.5], [130.55, -11.525], [130.55, -11.55], [130.575, -11.55], [130.6, -11.55], [130.6, -11.575], [130.6, -11.6], [130.625, -11.6], [130.65, -11.6], [130.675, -11.6], [130.7, -11.6], [130.7, -11.575], [130.7, -11.55], [130.725, -11.55], [130.75, -11.55], [130.75, -11.525], [130.75, -11.5], [130.775, -11.5], [130.8, -11.5], [130.825, -11.5], [130.85, -11.5], [130.85, -11.525], [130.85, -11.55], [130.875, -11.55], [130.9, -11.55], [130.9, -11.525], [130.9, -11.5], [130.925, -11.5], [130.95, -11.5], [130.95, -11.475], [130.95, -11.45], [130.975, -11.45], [131.0, -11.45], [131.0, -11.425], [131.0, -11.4], [131.025, -11.4], [131.05, -11.4], [131.05, -11.425], [131.05, -11.45], [131.075, -11.45], [131.1, -11.45], [131.1, -11.475], [131.1, -11.5], [131.125, -11.5], [131.15, -11.5], [131.175, -11.5], [131.2, -11.5], [131.2, -11.475], [131.2, -11.45], [131.225, -11.45], [131.25, -11.45], [131.25, -11.475], [131.25, -11.5], [131.25, -11.525], [131.25, -11.55], [131.225, -11.55], [131.2, -11.55], [131.2, -11.575], [131.2, -11.6], [131.2, -11.625], [131.2, -11.65], [131.225, -11.65], [131.25, -11.65], [131.25, -11.675], [131.25, -11.7], [131.275, -11.7], [131.3, -11.7], [131.3, -11.725], [131.3, -11.75], [131.325, -11.75], [131.35, -11.75], [131.35, -11.775], [131.35, -11.8], [131.35, -11.825], [131.35, -11.85], [131.325, -11.85], [131.3, -11.85], [131.3, -11.875], [131.3, -11.9], [131.275, -11.9], [131.25, -11.9], [131.25, -11.875], [131.25, -11.85], [131.225, -11.85], [131.2, -11.85], [131.2, -11.825], [131.2, -11.8], [131.175, -11.8], [131.15, -11.8], [131.15, -11.775], [131.15, -11.75], [131.125, -11.75], [131.1, -11.75], [131.075, -11.75], [131.05, -11.75], [131.05, -11.725], [131.05, -11.7], [131.025, -11.7], [131.0, -11.7], [130.975, -11.7], [130.95, -11.7], [130.925, -11.7], [130.9, -11.7], [130.9, -11.675], [130.9, -11.65], [130.875, -11.65], [130.85, -11.65], [130.825, -11.65], [130.8, -11.65], [130.775, -11.65], [130.75, -11.65], [130.75, -11.675], [130.75, -11.7], [130.725, -11.7], [130.7, -11.7], [130.7, -11.725], [130.7, -11.75], [130.675, -11.75], [130.65, -11.75], [130.65, -11.775], [130.65, -11.8], [130.625, -11.8], [130.6, -11.8], [130.6, -11.825], [130.6, -11.85], [130.575, -11.85], [130.55, -11.85], [130.55, -11.875], [130.55, -11.9], [130.575, -11.9], [130.6, -11.9], [130.6, -11.925], [130.6, -11.95], [130.625, -11.95], [130.65, -11.95], [130.65, -11.975], [130.65, -12.0], [130.675, -12.0], [130.7, -12.0], [130.7, -12.025], [130.7, -12.05], [130.725, -12.05], [130.75, -12.05], [130.75, -12.075], [130.75, -12.1], [130.75, -12.125], [130.75, -12.15], [130.75, -12.175], [130.75, -12.2], [130.725, -12.2], [130.7, -12.2], [130.7, -12.175], [130.7, -12.15], [130.675, -12.15], [130.65, -12.15], [130.625, -12.15], [130.6, -12.15], [130.575, -12.15], [130.55, -12.15], [130.55, -12.175], [130.55, -12.2], [130.525, -12.2], [130.5, -12.2], [130.5, -12.225], [130.5, -12.25], [130.475, -12.25], [130.45, -12.25], [130.45, -12.275], [130.45, -12.3], [130.425, -12.3], [130.4, -12.3], [130.375, -12.3], [130.35, -12.3], [130.35, -12.325], [130.35, -12.35], [130.325, -12.35], [130.3, -12.35], [130.275, -12.35], [130.25, -12.35], [130.25, -12.375], [130.25, -12.4], [130.225, -12.4], [130.2, -12.4], [130.2, -12.425], [130.2, -12.45], [130.175, -12.45], [130.15, -12.45], [130.15, -12.475], [130.15, -12.5], [130.125, -12.5], [130.1, -12.5], [130.1, -12.525], [130.1, -12.55], [130.075, -12.55], [130.05, -12.55], [130.05, -12.575], [130.05, -12.6], [130.05, -12.625], [130.05, -12.65], [130.075, -12.65], [130.1, -12.65], [130.1, -12.675], [130.1, -12.7], [130.075, -12.7], [130.05, -12.7], [130.05, -12.725], [130.05, -12.75], [130.025, -12.75], [130.0, -12.75], [130.0, -12.775], [130.0, -12.8], [129.975, -12.8], [129.95, -12.8], [129.95, -12.825], [129.95, -12.85], [129.925, -12.85], [129.9, -12.85], [129.9, -12.875], [129.9, -12.9], [129.9, -12.925], [129.9, -12.95], [129.925, -12.95], [129.95, -12.95], [129.95, -12.975], [129.95, -13.0], [129.925, -13.0], [129.9, -13.0], [129.9, -13.025], [129.9, -13.05], [129.875, -13.05], [129.85, -13.05], [129.85, -13.075], [129.85, -13.1], [129.825, -13.1], [129.8, -13.1], [129.8, -13.125], [129.8, -13.15], [129.825, -13.15], [129.85, -13.15], [129.85, -13.175], [129.85, -13.2], [129.85, -13.225], [129.85, -13.25], [129.825, -13.25], [129.8, -13.25], [129.8, -13.275], [129.8, -13.3], [129.775, -13.3], [129.75, -13.3], [129.75, -13.325], [129.75, -13.35], [129.725, -13.35], [129.7, -13.35], [129.7, -13.375], [129.7, -13.4], [129.675, -13.4], [129.65, -13.4]]]]"
      ]
     },
     "execution_count": 89,
     "metadata": {},
     "output_type": "execute_result"
    }
   ],
   "source": [
    "data_areas['features'][9]['geometry']['coordinates']"
   ]
  },
  {
   "cell_type": "code",
   "execution_count": 90,
   "metadata": {},
   "outputs": [],
   "source": [
    "# save the dictionaries as JSON files in the temporary directory with the original JSON (temp_dir).\n",
    "# run the os.path.join() function to create file paths for each new JSON. \n",
    "# create with statements and use the json.dump() function to save the dictionaries as JSON files\n",
    "# Filenames of temp json files \n",
    "stations_json_path = os.path.join(temp_dir, 'points.json')\n",
    "areas_json_path = os.path.join(temp_dir, 'polygons.json')\n",
    "# Save dictionaries into json files\n",
    "with open(stations_json_path, 'w') as point_json_file:\n",
    "    json.dump(data_stations, point_json_file, indent=4)\n",
    "with open(areas_json_path, 'w') as poly_json_file:\n",
    "    json.dump(data_areas, poly_json_file, indent=4)"
   ]
  },
  {
   "cell_type": "code",
   "execution_count": 91,
   "metadata": {},
   "outputs": [
    {
     "name": "stdout",
     "output_type": "stream",
     "text": [
      "C:\\Users\\rb17\\AppData\\Local\\Temp\\ArcGISProTemp5504\\tmpsvzw2f7v\\points.json\n"
     ]
    }
   ],
   "source": [
    "print(stations_json_path)"
   ]
  },
  {
   "cell_type": "code",
   "execution_count": 92,
   "metadata": {},
   "outputs": [
    {
     "name": "stdout",
     "output_type": "stream",
     "text": [
      "C:\\Users\\rb17\\AppData\\Local\\Temp\\ArcGISProTemp5504\\tmpsvzw2f7v\\polygons.json\n"
     ]
    }
   ],
   "source": [
    "print(areas_json_path)"
   ]
  },
  {
   "cell_type": "code",
   "execution_count": 93,
   "metadata": {},
   "outputs": [
    {
     "data": {
      "text/html": [
       "<div class='gpresult'><h2>Messages</h2><div id='messages' data-messages='[\"Start Time: 23 November 2022 15:28:42\",\"Succeeded at 23 November 2022 15:28:45 (Elapsed Time: 3.07 seconds)\"]' data-show='true'><div id = 'default' /></div></div>"
      ],
      "text/plain": [
       "<Result 'C:\\\\Users\\\\rb17\\\\AppData\\\\Local\\\\Temp\\\\ArcGISProTemp5504\\\\tmpzyn67glq\\\\Live.gdb\\\\alert_areas'>"
      ]
     },
     "execution_count": 93,
     "metadata": {},
     "output_type": "execute_result"
    }
   ],
   "source": [
    "# Convert JSON files to features\n",
    "arcpy.conversion.JSONToFeatures(stations_json_path, 'alert_stations') \n",
    "arcpy.conversion.JSONToFeatures(areas_json_path, 'alert_areas')"
   ]
  },
  {
   "cell_type": "markdown",
   "metadata": {},
   "source": [
    "## Change the symbology"
   ]
  },
  {
   "cell_type": "code",
   "execution_count": 94,
   "metadata": {},
   "outputs": [
    {
     "data": {
      "text/html": [
       "<div class='gpresult'><h2>Messages</h2><div id='messages' data-messages='[\"Start Time: 23 November 2022 15:28:56\",\"Adding alert_level to alert_areas...\",\"Succeeded at 23 November 2022 15:28:56 (Elapsed Time: 0.12 seconds)\"]' data-show='true'><div id = 'default' /></div></div>"
      ],
      "text/plain": [
       "<Result 'alert_areas'>"
      ]
     },
     "execution_count": 94,
     "metadata": {},
     "output_type": "execute_result"
    }
   ],
   "source": [
    "# Add alert_level field\n",
    "arcpy.management.AddField('alert_stations', 'alert_level', 'SHORT', field_alias='Alert Level')\n",
    "arcpy.management.AddField('alert_areas', 'alert_level', 'SHORT', field_alias='Alert Level')"
   ]
  },
  {
   "cell_type": "code",
   "execution_count": 95,
   "metadata": {},
   "outputs": [
    {
     "data": {
      "text/html": [
       "<div class='gpresult'><h2>Messages</h2><div id='messages' data-messages='[\"Start Time: 23 November 2022 15:28:57\",\"Succeeded at 23 November 2022 15:28:57 (Elapsed Time: 0.11 seconds)\"]' data-show='true'><div id = 'default' /></div></div>"
      ],
      "text/plain": [
       "<Result 'alert_areas'>"
      ]
     },
     "execution_count": 95,
     "metadata": {},
     "output_type": "execute_result"
    }
   ],
   "source": [
    "# Calculate alert_level field\n",
    "arcpy.management.CalculateField('alert_stations', 'alert_level', \"int(!alert!)\")\n",
    "arcpy.management.CalculateField('alert_areas', 'alert_level', \"int(!alert!)\")"
   ]
  },
  {
   "cell_type": "code",
   "execution_count": 97,
   "metadata": {},
   "outputs": [],
   "source": [
    "# Symbology\n",
    "p = arcpy.mp.ArcGISProject(\"CURRENT\")\n",
    "m = p.listMaps('Map')[0]\n",
    "\n",
    "# Points\n",
    "points_lyr = m.listLayers('alert_*')[0]\n",
    "points_sym = points_lyr.symbology"
   ]
  },
  {
   "cell_type": "code",
   "execution_count": 98,
   "metadata": {},
   "outputs": [],
   "source": [
    "# Always change to the GraduatedSymbolsRenderer from the SimpleRenderer\n",
    "if points_sym.renderer.type != 'SimpleRenderer':\n",
    "    points_sym.updateRenderer('SimpleRenderer')\n",
    "points_sym.updateRenderer('GraduatedSymbolsRenderer')\n",
    "points_sym.renderer.classificationField = 'alert_level'\n",
    "points_sym.renderer.breakCount = 4\n",
    "\n",
    "points_labels = ['0 - 1', '> 1 - 2', '> 2 - 3', '> 3 - 4']\n",
    "points_upperBounds = [1, 2, 3, 4]\n",
    "points_sizes = [6, 16.50, 27, 37.50] \n",
    "layers_colors = [{'RGB': [5, 113, 176, 40]}, {'RGB': [146, 197, 222, 50]},\n",
    "                   {'RGB': [244, 165, 130, 50]}, {'RGB': [202, 0, 32, 30]}]"
   ]
  },
  {
   "cell_type": "code",
   "execution_count": 99,
   "metadata": {},
   "outputs": [],
   "source": [
    "# create a for loop to apply the sizes and colors you specified to each class. \n",
    "# Your classes are contained in a numeric list from 1 to 4. You'll use i (for integer) as a \n",
    "# placeholder variable to represent the numbered classes.\n",
    "\n",
    "for i in range(4):\n",
    "    item = points_sym.renderer.classBreaks[i]\n",
    "    item.symbol.applySymbolFromGallery('Circle', 1)\n",
    "    item.label = points_labels[i]\n",
    "    item.upperBound = points_upperBounds[i]\n",
    "    item.symbol.size = points_sizes[i]\n",
    "    item.symbol.color = layers_colors[i]"
   ]
  },
  {
   "cell_type": "code",
   "execution_count": 100,
   "metadata": {},
   "outputs": [],
   "source": [
    "# Update the symbology\n",
    "points_lyr.symbology = points_sym"
   ]
  },
  {
   "cell_type": "code",
   "execution_count": 76,
   "metadata": {},
   "outputs": [],
   "source": []
  },
  {
   "cell_type": "code",
   "execution_count": 78,
   "metadata": {},
   "outputs": [],
   "source": []
  },
  {
   "cell_type": "code",
   "execution_count": null,
   "metadata": {},
   "outputs": [],
   "source": []
  },
  {
   "cell_type": "markdown",
   "metadata": {},
   "source": [
    "## Publish the layers"
   ]
  },
  {
   "cell_type": "code",
   "execution_count": 25,
   "metadata": {},
   "outputs": [],
   "source": [
    "# Confirm that you are signed in to an ArcGIS Online account\n",
    "# If you are signed in, the name of your account appears in the upper right corner of ArcGIS Pro\n",
    "# On the ribbon, click the Share tab. In the Share As group, click Web Layer.\n",
    "# ..."
   ]
  },
  {
   "cell_type": "markdown",
   "metadata": {},
   "source": [
    "## Create a feed routine"
   ]
  },
  {
   "cell_type": "code",
   "execution_count": 26,
   "metadata": {},
   "outputs": [],
   "source": [
    "# see stand-along script"
   ]
  }
 ],
 "metadata": {
  "kernelspec": {
   "display_name": "ArcGISPro",
   "language": "Python",
   "name": "python3"
  },
  "language_info": {
   "file_extension": ".py",
   "name": "python",
   "version": "3"
  }
 },
 "nbformat": 4,
 "nbformat_minor": 2
}
